{
 "cells": [
  {
   "cell_type": "code",
   "execution_count": 4,
   "metadata": {},
   "outputs": [
    {
     "name": "stdout",
     "output_type": "stream",
     "text": [
      "Stack is Empty? :\n",
      "True\n",
      "After Pushing 4 elements in stack: \n",
      "[4, 6, 8, 10]\n",
      "Stack is Empty? :\n",
      "False\n",
      "Top Element of Stack: \n",
      "10\n",
      "Size of Stack: \n",
      "4\n",
      "After Poping top elements, stack will be: \n",
      "[4, 6, 8]\n"
     ]
    }
   ],
   "source": [
    "class Stack:\n",
    "    def __init__(self):\n",
    "        self.items = [ ]\n",
    "\n",
    "    def isEmpty(self):\n",
    "        return self.items == [ ]\n",
    "\n",
    "    def push(self, item):\n",
    "        self.items.append(item)\n",
    "\n",
    "    def Pop(self):\n",
    "        return self.items.pop()\n",
    "\n",
    "    def Top(self):\n",
    "        return self.items[len(self.items) - 1]\n",
    "\n",
    "    def Size(self):\n",
    "        return len(self.items)\n",
    "\n",
    "\n",
    "\n",
    "\n",
    "S = Stack()\n",
    "\n",
    "print(\"Stack is Empty? :\")\n",
    "print(S.isEmpty())\n",
    "S.push(4)\n",
    "S.push(6)\n",
    "S.push(8)\n",
    "S.push(10)\n",
    "print(\"After Pushing 4 elements in stack: \")\n",
    "print(S.items)\n",
    "print(\"Stack is Empty? :\")\n",
    "print(S.isEmpty())\n",
    "print(\"Top Element of Stack: \")\n",
    "print(S.Top())\n",
    "print(\"Size of Stack: \")\n",
    "print(S.Size())\n",
    "S.Pop()\n",
    "print(\"After Poping top elements, stack will be: \")\n",
    "print(S.items)"
   ]
  },
  {
   "cell_type": "code",
   "execution_count": null,
   "metadata": {},
   "outputs": [],
   "source": []
  }
 ],
 "metadata": {
  "kernelspec": {
   "display_name": "Python 3",
   "language": "python",
   "name": "python3"
  },
  "language_info": {
   "codemirror_mode": {
    "name": "ipython",
    "version": 3
   },
   "file_extension": ".py",
   "mimetype": "text/x-python",
   "name": "python",
   "nbconvert_exporter": "python",
   "pygments_lexer": "ipython3",
   "version": "3.7.1"
  }
 },
 "nbformat": 4,
 "nbformat_minor": 2
}
