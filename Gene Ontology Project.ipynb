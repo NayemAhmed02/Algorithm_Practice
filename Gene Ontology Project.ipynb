{
 "cells": [
  {
   "cell_type": "code",
   "execution_count": 13,
   "metadata": {},
   "outputs": [],
   "source": [
    "# import the OBO parser from GOATools library\n",
    "from goatools import obo_parser"
   ]
  },
  {
   "cell_type": "code",
   "execution_count": 14,
   "metadata": {},
   "outputs": [],
   "source": [
    "import wget\n",
    "import os"
   ]
  },
  {
   "cell_type": "code",
   "execution_count": 15,
   "metadata": {},
   "outputs": [
    {
     "name": "stdout",
     "output_type": "stream",
     "text": [
      "Our Data is taken from C:\\Users\\Nayem_Ahmed\n",
      "100% [........................................................................] 31427900 / 31427900"
     ]
    }
   ],
   "source": [
    "url = 'http://purl.obolibrary.org/obo/go/go-basic.obo'\n",
    "print(\"Our Data is taken from %s\" % os.getcwd())\n",
    "folder = os.getcwd() + '/geneOntologyData'\n",
    "os.mkdir(folder)\n",
    "obo_path = wget.download(url,folder+'/go obo file')  # The path to the GO OBO file is now stored in the variable obo_path"
   ]
  },
  {
   "cell_type": "code",
   "execution_count": 16,
   "metadata": {},
   "outputs": [
    {
     "name": "stdout",
     "output_type": "stream",
     "text": [
      "C:\\Users\\Nayem_Ahmed/geneOntologyData/go obo file\n"
     ]
    }
   ],
   "source": [
    "print(obo_path)"
   ]
  },
  {
   "cell_type": "code",
   "execution_count": null,
   "metadata": {},
   "outputs": [],
   "source": []
  }
 ],
 "metadata": {
  "kernelspec": {
   "display_name": "Python 3",
   "language": "python",
   "name": "python3"
  },
  "language_info": {
   "codemirror_mode": {
    "name": "ipython",
    "version": 3
   },
   "file_extension": ".py",
   "mimetype": "text/x-python",
   "name": "python",
   "nbconvert_exporter": "python",
   "pygments_lexer": "ipython3",
   "version": "3.7.1"
  }
 },
 "nbformat": 4,
 "nbformat_minor": 2
}
