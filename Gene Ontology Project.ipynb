{
 "cells": [
  {
   "cell_type": "code",
   "execution_count": 55,
   "metadata": {},
   "outputs": [],
   "source": [
    "# import the OBO parser from GOATools library\n",
    "from goatools import obo_parser"
   ]
  },
  {
   "cell_type": "code",
   "execution_count": 56,
   "metadata": {},
   "outputs": [],
   "source": [
    "import wget\n",
    "import os"
   ]
  },
  {
   "cell_type": "code",
   "execution_count": 57,
   "metadata": {},
   "outputs": [
    {
     "name": "stdout",
     "output_type": "stream",
     "text": [
      "Our Data is taken from C:\\Users\\Nayem_Ahmed\n",
      "100% [........................................................................] 31427900 / 31427900"
     ]
    }
   ],
   "source": [
    "url = 'http://purl.obolibrary.org/obo/go/go-basic.obo'\n",
    "print(\"Our Data is taken from %s\" % os.getcwd())\n",
    "folder = os.getcwd() + '/geneOntologyData'\n",
    "os.mkdir(folder)\n",
    "obo_path = wget.download(url,folder+'/go obo file')  # The path to the GO OBO file is now stored in the variable obo_path"
   ]
  },
  {
   "cell_type": "code",
   "execution_count": 58,
   "metadata": {},
   "outputs": [
    {
     "name": "stdout",
     "output_type": "stream",
     "text": [
      "File Path: \n",
      "C:\\Users\\Nayem_Ahmed/geneOntologyData/go obo file\n"
     ]
    }
   ],
   "source": [
    "print(\"File Path: \")\n",
    "print(obo_path)"
   ]
  },
  {
   "cell_type": "code",
   "execution_count": 59,
   "metadata": {},
   "outputs": [
    {
     "name": "stdout",
     "output_type": "stream",
     "text": [
      "C:\\Users\\Nayem_Ahmed/geneOntologyData/go obo file: fmt(1.2) rel(2019-07-01) 47,413 GO Terms\n"
     ]
    }
   ],
   "source": [
    "go_Dic = obo_parser.GODag(go_obo) #create a dictionary of the GO terms, using the obo_parser from GOATools"
   ]
  },
  {
   "cell_type": "code",
   "execution_count": 60,
   "metadata": {},
   "outputs": [
    {
     "name": "stdout",
     "output_type": "stream",
     "text": [
      "GO:0000010\tlevel-04\tdepth-04\ttrans-hexaprenyltranstransferase activity [molecular_function]\n"
     ]
    }
   ],
   "source": [
    "# How to know about a node by it's ID\n",
    "node_id = 'GO:0000010'\n",
    "find = go_Dic[node_id]\n",
    "print(find)"
   ]
  },
  {
   "cell_type": "code",
   "execution_count": 50,
   "metadata": {},
   "outputs": [
    {
     "name": "stdout",
     "output_type": "stream",
     "text": [
      "Go Term Name: trans-hexaprenyltranstransferase activity\n",
      "Go Term namespace: molecular_function\n",
      "Go Term Parents : {GOTerm('GO:0016765'):\n",
      "  id:GO:0016765\n",
      "  item_id:GO:0016765\n",
      "  name:transferase activity, transferring alkyl or aryl (other than methyl) groups\n",
      "  namespace:molecular_function\n",
      "  _parents: 1 items\n",
      "    GO:0016740\n",
      "  parents: 1 items\n",
      "    GO:0016740\tlevel-02\tdepth-02\ttransferase activity [molecular_function]\n",
      "  children: 85 items\n",
      "  level:3\n",
      "  depth:3\n",
      "  is_obsolete:False\n",
      "  alt_ids: 1 items\n",
      "    GO:0016766}\n",
      "Go Term Children : set()\n"
     ]
    }
   ],
   "source": [
    "# How to print Specific information about a node,Such as , Name of the node, Namespace of the node,\n",
    "# Parents of the node,Children of the node etc\n",
    "print('Go Term Name: {}'.format(find.name))\n",
    "print('Go Term namespace: {}'.format(find.namespace))\n",
    "print('Go Term Parents : {}'.format(find.parents))\n",
    "print('Go Term Children : {}'.format(find.children))"
   ]
  },
  {
   "cell_type": "code",
   "execution_count": 61,
   "metadata": {},
   "outputs": [
    {
     "name": "stdout",
     "output_type": "stream",
     "text": [
      "GO:0016765\tlevel-03\tdepth-03\ttransferase activity, transferring alkyl or aryl (other than methyl) groups [molecular_function]\n"
     ]
    }
   ],
   "source": [
    "for ip in find.parents:     # How to print immediate parent(s) of a term\n",
    "    print(ip)"
   ]
  },
  {
   "cell_type": "code",
   "execution_count": 62,
   "metadata": {},
   "outputs": [],
   "source": [
    "for ic in find.children:     # How to print immediate children(s) of a term\n",
    "    print(ic)"
   ]
  },
  {
   "cell_type": "code",
   "execution_count": 67,
   "metadata": {},
   "outputs": [],
   "source": [
    "rec = go_Dic[node_id]                       # find the parents and children of a GO term,by using an inbuilt function of GOATools\n",
    "parents = rec.get_all_parents()\n",
    "childrens = rec.get_all_children()"
   ]
  },
  {
   "cell_type": "code",
   "execution_count": 68,
   "metadata": {},
   "outputs": [
    {
     "name": "stdout",
     "output_type": "stream",
     "text": [
      "GO:0003824\tlevel-01\tdepth-01\tcatalytic activity [molecular_function]\n",
      "GO:0016765\tlevel-03\tdepth-03\ttransferase activity, transferring alkyl or aryl (other than methyl) groups [molecular_function]\n",
      "GO:0003674\tlevel-00\tdepth-00\tmolecular_function [molecular_function]\n",
      "GO:0016740\tlevel-02\tdepth-02\ttransferase activity [molecular_function]\n"
     ]
    }
   ],
   "source": [
    "for ap in parents.union(childrens):\n",
    "    print(go_Dic[ap])"
   ]
  },
  {
   "cell_type": "code",
   "execution_count": 69,
   "metadata": {},
   "outputs": [
    {
     "name": "stdout",
     "output_type": "stream",
     "text": [
      "GO:0003824\tlevel-01\tdepth-01\tcatalytic activity [molecular_function]\n",
      "GO:0016765\tlevel-03\tdepth-03\ttransferase activity, transferring alkyl or aryl (other than methyl) groups [molecular_function]\n",
      "GO:0003674\tlevel-00\tdepth-00\tmolecular_function [molecular_function]\n",
      "GO:0016740\tlevel-02\tdepth-02\ttransferase activity [molecular_function]\n"
     ]
    }
   ],
   "source": [
    "for ac in childrens.union(parents):\n",
    "    print(go_Dic[ac])"
   ]
  },
  {
   "cell_type": "code",
   "execution_count": null,
   "metadata": {},
   "outputs": [],
   "source": []
  }
 ],
 "metadata": {
  "kernelspec": {
   "display_name": "Python 3",
   "language": "python",
   "name": "python3"
  },
  "language_info": {
   "codemirror_mode": {
    "name": "ipython",
    "version": 3
   },
   "file_extension": ".py",
   "mimetype": "text/x-python",
   "name": "python",
   "nbconvert_exporter": "python",
   "pygments_lexer": "ipython3",
   "version": "3.7.1"
  }
 },
 "nbformat": 4,
 "nbformat_minor": 2
}
