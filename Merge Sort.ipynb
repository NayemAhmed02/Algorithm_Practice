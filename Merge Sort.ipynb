{
 "cells": [
  {
   "cell_type": "code",
   "execution_count": 4,
   "metadata": {},
   "outputs": [
    {
     "name": "stdout",
     "output_type": "stream",
     "text": [
      "Enter the size of array: 5\n",
      "Now, Enter array elements : \n",
      "\n",
      "1\n",
      "5\n",
      "2\n",
      "9\n",
      "4\n",
      "Before sorted: \n",
      "[1, 5, 2, 9, 4]\n",
      "\n",
      "\n",
      "\n",
      "After sorted in ascending order: \n",
      "[1, 2, 4, 5, 9]\n"
     ]
    }
   ],
   "source": [
    "def mergeSort(list): \n",
    "    length = len(list)\n",
    "    \n",
    "    if length > 1: \n",
    "        midValue = length // 2\n",
    "        start = list[:midValue] \n",
    "        end = list[midValue:]\n",
    "  \n",
    "        mergeSort(start) \n",
    "        mergeSort(end) \n",
    "  \n",
    "        i = 0\n",
    "        j = 0\n",
    "        k = 0\n",
    "        \n",
    "        length1 = len(start)\n",
    "        length2 = len(end)\n",
    "        \n",
    "        while i < length1 and j < length2: \n",
    "            if start[i] < end[j]: \n",
    "                list[k] = start[i] \n",
    "                i+=1\n",
    "            else: \n",
    "                list[k] = end[j] \n",
    "                j+=1\n",
    "            k+=1\n",
    "          \n",
    "        while i < length1: \n",
    "            list[k] = start[i] \n",
    "            i+=1\n",
    "            k+=1\n",
    "          \n",
    "        while j < length2: \n",
    "            list[k] = end[j] \n",
    "            j+=1\n",
    "            k+=1\n",
    "\n",
    "            \n",
    "\n",
    "list = []\n",
    "num = int(input(\"Enter the size of array: \"))\n",
    "print(\"Now, Enter array elements : \\n\")\n",
    "\n",
    "for i in range(0,num):\n",
    "    ele = int(input())\n",
    "    list.append(ele)\n",
    "\n",
    "print(\"Before sorted: \")\n",
    "print(list)\n",
    "print(\"\\n\\n\")\n",
    "\n",
    "print(\"After sorted in ascending order: \")\n",
    "mergeSort(list)\n",
    "print(list)"
   ]
  },
  {
   "cell_type": "code",
   "execution_count": null,
   "metadata": {},
   "outputs": [],
   "source": []
  },
  {
   "cell_type": "code",
   "execution_count": null,
   "metadata": {},
   "outputs": [],
   "source": []
  }
 ],
 "metadata": {
  "kernelspec": {
   "display_name": "Python 3",
   "language": "python",
   "name": "python3"
  },
  "language_info": {
   "codemirror_mode": {
    "name": "ipython",
    "version": 3
   },
   "file_extension": ".py",
   "mimetype": "text/x-python",
   "name": "python",
   "nbconvert_exporter": "python",
   "pygments_lexer": "ipython3",
   "version": "3.7.1"
  }
 },
 "nbformat": 4,
 "nbformat_minor": 2
}
