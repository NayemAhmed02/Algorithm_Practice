{
 "cells": [
  {
   "cell_type": "code",
   "execution_count": 2,
   "metadata": {},
   "outputs": [
    {
     "name": "stdout",
     "output_type": "stream",
     "text": [
      "Enter the value of m: 1\n",
      "Enter the value of n: 2\n",
      "According to Ackermann Function The Result Is: \n",
      "4\n"
     ]
    }
   ],
   "source": [
    "def Ackermann(m, n):\n",
    "    if(m == 0):\n",
    "        return n+1\n",
    "    elif(n == 0):\n",
    "        return Ackermann(m-1, 1)\n",
    "    else:\n",
    "        return Ackermann(m-1, Ackermann(m, n-1))\n",
    "\n",
    "X = int(input(\"Enter the value of m: \"))\n",
    "Y = int(input(\"Enter the value of n: \"))\n",
    "\n",
    "print(\"According to Ackermann Function The Result Is: \")\n",
    "print(Ackermann(X, Y))"
   ]
  },
  {
   "cell_type": "code",
   "execution_count": null,
   "metadata": {},
   "outputs": [],
   "source": []
  }
 ],
 "metadata": {
  "kernelspec": {
   "display_name": "Python 3",
   "language": "python",
   "name": "python3"
  },
  "language_info": {
   "codemirror_mode": {
    "name": "ipython",
    "version": 3
   },
   "file_extension": ".py",
   "mimetype": "text/x-python",
   "name": "python",
   "nbconvert_exporter": "python",
   "pygments_lexer": "ipython3",
   "version": "3.7.1"
  }
 },
 "nbformat": 4,
 "nbformat_minor": 2
}
