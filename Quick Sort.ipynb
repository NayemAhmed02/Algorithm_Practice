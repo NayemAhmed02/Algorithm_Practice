{
 "cells": [
  {
   "cell_type": "code",
   "execution_count": 15,
   "metadata": {},
   "outputs": [
    {
     "name": "stdout",
     "output_type": "stream",
     "text": [
      "Enter the size of array: 5\n",
      "Now, Enter array elements : \n",
      "\n",
      "5\n",
      "4\n",
      "3\n",
      "2\n",
      "1\n",
      "Before sorted: \n",
      "[5, 4, 3, 2, 1]\n",
      "\n",
      "\n",
      "\n",
      "After sorted in ascending order: \n",
      "[1, 2, 3, 4, 5]\n"
     ]
    }
   ],
   "source": [
    "\n",
    "def divide(list,start,end): \n",
    "    i = start-1         \n",
    "    pivot = list[end] \n",
    "  \n",
    "    for j in range(start , end): \n",
    "        if   list[j] <= pivot: \n",
    "            i = i+1 \n",
    "            list[i] = list[j]\n",
    "            list[j] = list[i]\n",
    "  \n",
    "    list[i+1],list[end] = list[end],list[i+1] \n",
    "    \n",
    "    return ( i+1 ) \n",
    "  \n",
    "def quickSort(list,start,end): \n",
    "    if start < end: \n",
    "        counter = divide(list,start,end) \n",
    "        \n",
    "        quickSort(list, start, counter-1) \n",
    "        quickSort(list, counter+1, end) \n",
    "  \n",
    "        \n",
    "list = []\n",
    "num = int(input(\"Enter the size of array: \"))\n",
    "print(\"Now, Enter array elements : \\n\")\n",
    "\n",
    "for i in range(0,num):\n",
    "    ele = int(input())\n",
    "    list.append(ele)\n",
    "\n",
    "print(\"Before sorted: \")\n",
    "print(list)\n",
    "print(\"\\n\\n\")\n",
    "\n",
    "print(\"After sorted in ascending order: \")\n",
    "quickSort(list,0,num-1)\n",
    "print(list)\n",
    "\n"
   ]
  },
  {
   "cell_type": "code",
   "execution_count": null,
   "metadata": {},
   "outputs": [],
   "source": [
    "\n",
    "  \n"
   ]
  },
  {
   "cell_type": "code",
   "execution_count": null,
   "metadata": {},
   "outputs": [],
   "source": []
  }
 ],
 "metadata": {
  "kernelspec": {
   "display_name": "Python 3",
   "language": "python",
   "name": "python3"
  },
  "language_info": {
   "codemirror_mode": {
    "name": "ipython",
    "version": 3
   },
   "file_extension": ".py",
   "mimetype": "text/x-python",
   "name": "python",
   "nbconvert_exporter": "python",
   "pygments_lexer": "ipython3",
   "version": "3.7.1"
  }
 },
 "nbformat": 4,
 "nbformat_minor": 2
}
